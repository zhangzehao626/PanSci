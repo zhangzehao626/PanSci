{
 "cells": [
  {
   "cell_type": "code",
   "execution_count": 1,
   "id": "53532506-d30c-45bb-8c05-197e1096a201",
   "metadata": {
    "vscode": {
     "languageId": "r"
    }
   },
   "outputs": [
    {
     "name": "stderr",
     "output_type": "stream",
     "text": [
      "Warning message:\n",
      "“package ‘monocle’ was built under R version 4.3.2”\n",
      "Warning message:\n",
      "“package ‘Matrix’ was built under R version 4.3.2”\n",
      "Warning message:\n",
      "“package ‘Biobase’ was built under R version 4.3.2”\n",
      "Warning message:\n",
      "“package ‘BiocGenerics’ was built under R version 4.3.2”\n"
     ]
    }
   ],
   "source": [
    "suppressMessages(library(monocle))\n",
    "suppressMessages(library(dplyr))\n",
    "suppressMessages(library(tidyverse))"
   ]
  },
  {
   "cell_type": "code",
   "execution_count": 3,
   "id": "2ccf347c-7545-4553-aac6-19dfe0e50497",
   "metadata": {
    "vscode": {
     "languageId": "r"
    }
   },
   "outputs": [],
   "source": [
    "input_folder = \"path/to/cell/metadata\"\n",
    "df_cell <- read.csv(file.path(input_folder, \"df_cell_PanSci.csv\"))"
   ]
  },
  {
   "cell_type": "code",
   "execution_count": 4,
   "id": "924b9cb9-d3fe-4ebf-bd76-0326b9e904ff",
   "metadata": {
    "vscode": {
     "languageId": "r"
    }
   },
   "outputs": [
    {
     "name": "stderr",
     "output_type": "stream",
     "text": [
      "\u001b[1m\u001b[22m`summarise()` has grouped output by 'sub_cell_type_indi_ID', 'genotype',\n",
      "'age_group', 'gender', 'project', 'ID', 'organ_ID'. You can override using the\n",
      "`.groups` argument.\n"
     ]
    }
   ],
   "source": [
    "df_cell$sub_cell_type_indi_ID = str_c(df_cell$Conditions, \n",
    "                                      df_cell$subcluster_organ, sep = \".\")\n",
    "df_cell_count_sub_cell_type = df_cell %>% group_by(sub_cell_type_indi_ID, genotype, age_group, gender, project, ID, organ_ID, subcluster_organ) %>% summarise(cell_num = n())"
   ]
  },
  {
   "cell_type": "code",
   "execution_count": 5,
   "id": "157cd1b1-affc-4713-b63b-ad80022147c8",
   "metadata": {
    "vscode": {
     "languageId": "r"
    }
   },
   "outputs": [
    {
     "data": {
      "text/html": [
       "<table class=\"dataframe\">\n",
       "<caption>A grouped_df: 6 × 9</caption>\n",
       "<thead>\n",
       "\t<tr><th scope=col>sub_cell_type_indi_ID</th><th scope=col>genotype</th><th scope=col>age_group</th><th scope=col>gender</th><th scope=col>project</th><th scope=col>ID</th><th scope=col>organ_ID</th><th scope=col>subcluster_organ</th><th scope=col>cell_num</th></tr>\n",
       "\t<tr><th scope=col>&lt;chr&gt;</th><th scope=col>&lt;chr&gt;</th><th scope=col>&lt;chr&gt;</th><th scope=col>&lt;chr&gt;</th><th scope=col>&lt;chr&gt;</th><th scope=col>&lt;int&gt;</th><th scope=col>&lt;chr&gt;</th><th scope=col>&lt;chr&gt;</th><th scope=col>&lt;int&gt;</th></tr>\n",
       "</thead>\n",
       "<tbody>\n",
       "\t<tr><td>1-Aging-23_months-Male-WT.Adipocytes-0-Liver            </td><td>WT</td><td>23_months</td><td>Male</td><td>Aging</td><td>1</td><td>04_Liver</td><td>Adipocytes-0-Liver            </td><td>22</td></tr>\n",
       "\t<tr><td>1-Aging-23_months-Male-WT.Adipocytes-1-Liver            </td><td>WT</td><td>23_months</td><td>Male</td><td>Aging</td><td>1</td><td>04_Liver</td><td>Adipocytes-1-Liver            </td><td> 8</td></tr>\n",
       "\t<tr><td>1-Aging-23_months-Male-WT.Adipocytes-2-Liver            </td><td>WT</td><td>23_months</td><td>Male</td><td>Aging</td><td>1</td><td>04_Liver</td><td>Adipocytes-2-Liver            </td><td> 1</td></tr>\n",
       "\t<tr><td>1-Aging-23_months-Male-WT.Adipocytes-3-Liver            </td><td>WT</td><td>23_months</td><td>Male</td><td>Aging</td><td>1</td><td>04_Liver</td><td>Adipocytes-3-Liver            </td><td> 1</td></tr>\n",
       "\t<tr><td>1-Aging-23_months-Male-WT.Adipocytes-4-Liver            </td><td>WT</td><td>23_months</td><td>Male</td><td>Aging</td><td>1</td><td>04_Liver</td><td>Adipocytes-4-Liver            </td><td>28</td></tr>\n",
       "\t<tr><td>1-Aging-23_months-Male-WT.Cacna1b positive cells-4-Liver</td><td>WT</td><td>23_months</td><td>Male</td><td>Aging</td><td>1</td><td>04_Liver</td><td>Cacna1b positive cells-4-Liver</td><td> 1</td></tr>\n",
       "</tbody>\n",
       "</table>\n"
      ],
      "text/latex": [
       "A grouped\\_df: 6 × 9\n",
       "\\begin{tabular}{lllllllll}\n",
       " sub\\_cell\\_type\\_indi\\_ID & genotype & age\\_group & gender & project & ID & organ\\_ID & subcluster\\_organ & cell\\_num\\\\\n",
       " <chr> & <chr> & <chr> & <chr> & <chr> & <int> & <chr> & <chr> & <int>\\\\\n",
       "\\hline\n",
       "\t 1-Aging-23\\_months-Male-WT.Adipocytes-0-Liver             & WT & 23\\_months & Male & Aging & 1 & 04\\_Liver & Adipocytes-0-Liver             & 22\\\\\n",
       "\t 1-Aging-23\\_months-Male-WT.Adipocytes-1-Liver             & WT & 23\\_months & Male & Aging & 1 & 04\\_Liver & Adipocytes-1-Liver             &  8\\\\\n",
       "\t 1-Aging-23\\_months-Male-WT.Adipocytes-2-Liver             & WT & 23\\_months & Male & Aging & 1 & 04\\_Liver & Adipocytes-2-Liver             &  1\\\\\n",
       "\t 1-Aging-23\\_months-Male-WT.Adipocytes-3-Liver             & WT & 23\\_months & Male & Aging & 1 & 04\\_Liver & Adipocytes-3-Liver             &  1\\\\\n",
       "\t 1-Aging-23\\_months-Male-WT.Adipocytes-4-Liver             & WT & 23\\_months & Male & Aging & 1 & 04\\_Liver & Adipocytes-4-Liver             & 28\\\\\n",
       "\t 1-Aging-23\\_months-Male-WT.Cacna1b positive cells-4-Liver & WT & 23\\_months & Male & Aging & 1 & 04\\_Liver & Cacna1b positive cells-4-Liver &  1\\\\\n",
       "\\end{tabular}\n"
      ],
      "text/markdown": [
       "\n",
       "A grouped_df: 6 × 9\n",
       "\n",
       "| sub_cell_type_indi_ID &lt;chr&gt; | genotype &lt;chr&gt; | age_group &lt;chr&gt; | gender &lt;chr&gt; | project &lt;chr&gt; | ID &lt;int&gt; | organ_ID &lt;chr&gt; | subcluster_organ &lt;chr&gt; | cell_num &lt;int&gt; |\n",
       "|---|---|---|---|---|---|---|---|---|\n",
       "| 1-Aging-23_months-Male-WT.Adipocytes-0-Liver             | WT | 23_months | Male | Aging | 1 | 04_Liver | Adipocytes-0-Liver             | 22 |\n",
       "| 1-Aging-23_months-Male-WT.Adipocytes-1-Liver             | WT | 23_months | Male | Aging | 1 | 04_Liver | Adipocytes-1-Liver             |  8 |\n",
       "| 1-Aging-23_months-Male-WT.Adipocytes-2-Liver             | WT | 23_months | Male | Aging | 1 | 04_Liver | Adipocytes-2-Liver             |  1 |\n",
       "| 1-Aging-23_months-Male-WT.Adipocytes-3-Liver             | WT | 23_months | Male | Aging | 1 | 04_Liver | Adipocytes-3-Liver             |  1 |\n",
       "| 1-Aging-23_months-Male-WT.Adipocytes-4-Liver             | WT | 23_months | Male | Aging | 1 | 04_Liver | Adipocytes-4-Liver             | 28 |\n",
       "| 1-Aging-23_months-Male-WT.Cacna1b positive cells-4-Liver | WT | 23_months | Male | Aging | 1 | 04_Liver | Cacna1b positive cells-4-Liver |  1 |\n",
       "\n"
      ],
      "text/plain": [
       "  sub_cell_type_indi_ID                                    genotype age_group\n",
       "1 1-Aging-23_months-Male-WT.Adipocytes-0-Liver             WT       23_months\n",
       "2 1-Aging-23_months-Male-WT.Adipocytes-1-Liver             WT       23_months\n",
       "3 1-Aging-23_months-Male-WT.Adipocytes-2-Liver             WT       23_months\n",
       "4 1-Aging-23_months-Male-WT.Adipocytes-3-Liver             WT       23_months\n",
       "5 1-Aging-23_months-Male-WT.Adipocytes-4-Liver             WT       23_months\n",
       "6 1-Aging-23_months-Male-WT.Cacna1b positive cells-4-Liver WT       23_months\n",
       "  gender project ID organ_ID subcluster_organ               cell_num\n",
       "1 Male   Aging   1  04_Liver Adipocytes-0-Liver             22      \n",
       "2 Male   Aging   1  04_Liver Adipocytes-1-Liver              8      \n",
       "3 Male   Aging   1  04_Liver Adipocytes-2-Liver              1      \n",
       "4 Male   Aging   1  04_Liver Adipocytes-3-Liver              1      \n",
       "5 Male   Aging   1  04_Liver Adipocytes-4-Liver             28      \n",
       "6 Male   Aging   1  04_Liver Cacna1b positive cells-4-Liver  1      "
      ]
     },
     "metadata": {},
     "output_type": "display_data"
    }
   ],
   "source": [
    "head(df_cell_count_sub_cell_type)"
   ]
  },
  {
   "cell_type": "code",
   "execution_count": 6,
   "id": "022688fe-5c8a-4589-80ad-1cf6aea927a1",
   "metadata": {
    "vscode": {
     "languageId": "r"
    }
   },
   "outputs": [],
   "source": [
    "organ_names = unique(df_cell_count_sub_cell_type$organ_ID)"
   ]
  },
  {
   "cell_type": "code",
   "execution_count": 11,
   "id": "78b592b4-fe8b-4d5f-9053-ec8883d1ba56",
   "metadata": {
    "vscode": {
     "languageId": "r"
    }
   },
   "outputs": [],
   "source": [
    "# Calculate the proportion of each cell type in each sample\n",
    "cds_cell_count_proportion_matrix <- function(cds) {\n",
    "    b = Matrix::Diagonal(x = 1 / colSums(exprs(cds)))\n",
    "    return(exprs(cds) %*% b)\n",
    "}\n",
    "\n",
    "# Calculate the proportion of each cell type in each sample\n",
    "cds_cell_count_class_mean <- function(cds, class_vector) {\n",
    "    cds_express <- (cds_cell_count_proportion_matrix(cds))\n",
    "    unique_class <- sort(unique(class_vector))\n",
    "    tmp_class_means <- lapply(1:length(unique_class), \n",
    "                            function(x) {\n",
    "                                if(sum(class_vector == unique_class[x]) > 1) {\n",
    "                                    result = Matrix::rowMeans(cds_express[, class_vector == unique_class[x]]) }\n",
    "                                else {\n",
    "                                result = cds_express[, class_vector == unique_class[x]] }\n",
    "                                return(result) })\n",
    "    \n",
    "    tmp_class_means <- do.call(cbind, tmp_class_means)\n",
    "    colnames(tmp_class_means) = unique_class\n",
    "    return(tmp_class_means)\n",
    "}\n",
    "\n",
    "## Construct cds object\n",
    "cds_construct <- function (UMI, df_cell, df_gene) \n",
    "{\n",
    "    df_cell = as.data.frame(df_cell)\n",
    "    df_gene = as.data.frame(df_gene)\n",
    "    df_gene = df_gene %>% plyr::rename(c(gene_name = \"gene_short_name\"))\n",
    "    pd = new(\"AnnotatedDataFrame\", data = df_cell)\n",
    "    fd = new(\"AnnotatedDataFrame\", data = df_gene)\n",
    "    colnames(UMI) = df_cell$sample\n",
    "    row.names(UMI) = df_gene$gene_id\n",
    "    row.names(pd) = colnames(UMI)\n",
    "    row.names(fd) = row.names(UMI)\n",
    "    cds = newCellDataSet(UMI, phenoData = pd, featureData = fd, \n",
    "        expressionFamily = negbinomial.size())\n",
    "    return(cds)\n",
    "}"
   ]
  },
  {
   "cell_type": "code",
   "execution_count": 12,
   "id": "c30a9941-c1ee-4804-a7cc-e614b68bae62",
   "metadata": {
    "vscode": {
     "languageId": "r"
    }
   },
   "outputs": [],
   "source": [
    "cds_sub_cell_type_list = list()\n",
    "df_cell_proportion_age_list = list()"
   ]
  },
  {
   "cell_type": "code",
   "execution_count": 13,
   "id": "bb685695-9833-4f68-a7af-725140166b9c",
   "metadata": {
    "vscode": {
     "languageId": "r"
    }
   },
   "outputs": [
    {
     "name": "stdout",
     "output_type": "stream",
     "text": [
      "\n",
      "Processing sample: 04_Liver"
     ]
    },
    {
     "name": "stderr",
     "output_type": "stream",
     "text": [
      "\u001b[1m\u001b[22mJoining with `by = join_by(sample)`\n",
      "\u001b[1m\u001b[22mJoining with `by = join_by(cell_type_id)`\n",
      "\u001b[1m\u001b[22mJoining with `by = join_by(cell_type_id)`\n"
     ]
    },
    {
     "name": "stdout",
     "output_type": "stream",
     "text": [
      "\n",
      "Processing sample: 07_BAT"
     ]
    },
    {
     "name": "stderr",
     "output_type": "stream",
     "text": [
      "\u001b[1m\u001b[22mJoining with `by = join_by(sample)`\n",
      "\u001b[1m\u001b[22mJoining with `by = join_by(cell_type_id)`\n",
      "\u001b[1m\u001b[22mJoining with `by = join_by(cell_type_id)`\n"
     ]
    },
    {
     "name": "stdout",
     "output_type": "stream",
     "text": [
      "\n",
      "Processing sample: 09_gWAT"
     ]
    },
    {
     "name": "stderr",
     "output_type": "stream",
     "text": [
      "\u001b[1m\u001b[22mJoining with `by = join_by(sample)`\n",
      "\u001b[1m\u001b[22mJoining with `by = join_by(cell_type_id)`\n",
      "\u001b[1m\u001b[22mJoining with `by = join_by(cell_type_id)`\n"
     ]
    },
    {
     "name": "stdout",
     "output_type": "stream",
     "text": [
      "\n",
      "Processing sample: 08_iWAT"
     ]
    },
    {
     "name": "stderr",
     "output_type": "stream",
     "text": [
      "\u001b[1m\u001b[22mJoining with `by = join_by(sample)`\n",
      "\u001b[1m\u001b[22mJoining with `by = join_by(cell_type_id)`\n",
      "\u001b[1m\u001b[22mJoining with `by = join_by(cell_type_id)`\n"
     ]
    },
    {
     "name": "stdout",
     "output_type": "stream",
     "text": [
      "\n",
      "Processing sample: 13_Duodenum"
     ]
    },
    {
     "name": "stderr",
     "output_type": "stream",
     "text": [
      "\u001b[1m\u001b[22mJoining with `by = join_by(sample)`\n",
      "\u001b[1m\u001b[22mJoining with `by = join_by(cell_type_id)`\n",
      "\u001b[1m\u001b[22mJoining with `by = join_by(cell_type_id)`\n"
     ]
    },
    {
     "name": "stdout",
     "output_type": "stream",
     "text": [
      "\n",
      "Processing sample: 03_Heart"
     ]
    },
    {
     "name": "stderr",
     "output_type": "stream",
     "text": [
      "\u001b[1m\u001b[22mJoining with `by = join_by(sample)`\n",
      "\u001b[1m\u001b[22mJoining with `by = join_by(cell_type_id)`\n",
      "\u001b[1m\u001b[22mJoining with `by = join_by(cell_type_id)`\n"
     ]
    },
    {
     "name": "stdout",
     "output_type": "stream",
     "text": [
      "\n",
      "Processing sample: 12_Jejunum"
     ]
    },
    {
     "name": "stderr",
     "output_type": "stream",
     "text": [
      "\u001b[1m\u001b[22mJoining with `by = join_by(sample)`\n",
      "\u001b[1m\u001b[22mJoining with `by = join_by(cell_type_id)`\n",
      "\u001b[1m\u001b[22mJoining with `by = join_by(cell_type_id)`\n"
     ]
    },
    {
     "name": "stdout",
     "output_type": "stream",
     "text": [
      "\n",
      "Processing sample: 01_Kidney"
     ]
    },
    {
     "name": "stderr",
     "output_type": "stream",
     "text": [
      "\u001b[1m\u001b[22mJoining with `by = join_by(sample)`\n",
      "\u001b[1m\u001b[22mJoining with `by = join_by(cell_type_id)`\n",
      "\u001b[1m\u001b[22mJoining with `by = join_by(cell_type_id)`\n"
     ]
    },
    {
     "name": "stdout",
     "output_type": "stream",
     "text": [
      "\n",
      "Processing sample: 02_Lung"
     ]
    },
    {
     "name": "stderr",
     "output_type": "stream",
     "text": [
      "\u001b[1m\u001b[22mJoining with `by = join_by(sample)`\n",
      "\u001b[1m\u001b[22mJoining with `by = join_by(cell_type_id)`\n",
      "\u001b[1m\u001b[22mJoining with `by = join_by(cell_type_id)`\n"
     ]
    },
    {
     "name": "stdout",
     "output_type": "stream",
     "text": [
      "\n",
      "Processing sample: 05_Muscle"
     ]
    },
    {
     "name": "stderr",
     "output_type": "stream",
     "text": [
      "\u001b[1m\u001b[22mJoining with `by = join_by(sample)`\n",
      "\u001b[1m\u001b[22mJoining with `by = join_by(cell_type_id)`\n",
      "\u001b[1m\u001b[22mJoining with `by = join_by(cell_type_id)`\n"
     ]
    },
    {
     "name": "stdout",
     "output_type": "stream",
     "text": [
      "\n",
      "Processing sample: 06_Stomach"
     ]
    },
    {
     "name": "stderr",
     "output_type": "stream",
     "text": [
      "\u001b[1m\u001b[22mJoining with `by = join_by(sample)`\n",
      "\u001b[1m\u001b[22mJoining with `by = join_by(cell_type_id)`\n",
      "\u001b[1m\u001b[22mJoining with `by = join_by(cell_type_id)`\n"
     ]
    },
    {
     "name": "stdout",
     "output_type": "stream",
     "text": [
      "\n",
      "Processing sample: 11_Colon"
     ]
    },
    {
     "name": "stderr",
     "output_type": "stream",
     "text": [
      "\u001b[1m\u001b[22mJoining with `by = join_by(sample)`\n",
      "\u001b[1m\u001b[22mJoining with `by = join_by(cell_type_id)`\n",
      "\u001b[1m\u001b[22mJoining with `by = join_by(cell_type_id)`\n"
     ]
    },
    {
     "name": "stdout",
     "output_type": "stream",
     "text": [
      "\n",
      "Processing sample: 10_Ileum"
     ]
    },
    {
     "name": "stderr",
     "output_type": "stream",
     "text": [
      "\u001b[1m\u001b[22mJoining with `by = join_by(sample)`\n",
      "\u001b[1m\u001b[22mJoining with `by = join_by(cell_type_id)`\n",
      "\u001b[1m\u001b[22mJoining with `by = join_by(cell_type_id)`\n"
     ]
    }
   ],
   "source": [
    "for(organ_name in organ_names) {\n",
    "    cat(\"\\nProcessing sample: \")\n",
    "    cat(organ_name)\n",
    "    df_organ_cell = df_cell_count_sub_cell_type %>% filter(organ_ID == organ_name)\n",
    "\n",
    "    df_organ_cell$sample = str_split_fixed(df_organ_cell$sub_cell_type_indi_ID, pattern = \"\\\\.\", n = 2)[, 1]\n",
    "\n",
    "    df_cell_count = as.data.frame(df_organ_cell) %>% select(sample, subcluster_organ, cell_num) %>% spread(key = subcluster_organ, value = cell_num, fill = 0)\n",
    "\n",
    "    df_cell_mm = as.matrix(df_cell_count %>% select(-sample))\n",
    "    rownames(df_cell_mm) = df_cell_count$sample\n",
    "\n",
    "    df_cell_mm = t(df_cell_mm)\n",
    "\n",
    "    df_cell_mm_anno = data.frame(sample = colnames(df_cell_mm))\n",
    "    df_tmp = as.data.frame(df_organ_cell) %>% select(sample, genotype, age_group, gender, ID, organ_ID) %>% unique()\n",
    "    df_cell_mm_anno = left_join(df_cell_mm_anno, df_tmp)\n",
    "\n",
    "    df_cell_mm_cell_type_anno = data.frame(gene_id = rownames(df_cell_mm), gene_name = rownames(df_cell_mm), subcluster_organ = rownames(df_cell_mm))\n",
    "    df_cell_mm_cell_type_anno$sub_cell_type = str_split_fixed(df_cell_mm_cell_type_anno$subcluster_organ, pattern = \"-\", n = 2)[, 1]\n",
    "    df_cell_mm_cell_type_anno$organ = str_split_fixed(df_cell_mm_cell_type_anno$subcluster_organ, pattern = \"-\", n = 2)[, 2]\n",
    "\n",
    "    cds_cell_count = cds_construct(df_cell_mm, df_cell_mm_anno, df_cell_mm_cell_type_anno)\n",
    "\n",
    "    cds_cell_count = estimateSizeFactors(cds_cell_count)\n",
    "    cds_cell_count$age_genotype = str_c(cds_cell_count$age_group, cds_cell_count$genotype, sep = \"-\")\n",
    "    \n",
    "    df_cell_proportion = cds_cell_count_proportion_matrix(cds_cell_count)\n",
    "\n",
    "    df_cell_proportion_age_genotype = cds_cell_count_class_mean(cds_cell_count, cds_cell_count$age_genotype)\n",
    "\n",
    "    # Identify cds object that are significantly changed between 06 and 12 months/03 and 16 months\n",
    "    cds_sampled = cds_cell_count[, cds_cell_count$age_group %in% c(\"06_months\", \"23_months\")]\n",
    "    DA_cells = differentialGeneTest(cds_sampled, fullModelFormulaStr = \"~ Size_Factor + age_group\", \n",
    "            reducedModelFormulaStr = \"~ Size_Factor\")\n",
    "    DA_cells = as.data.frame(DA_cells) %>% select(pval_06_23 = pval, qval_06_23 = qval, cell_type_id = gene_id)\n",
    "\n",
    "    df_cell_proportion_age_genotype = as.data.frame(df_cell_proportion_age_genotype)\n",
    "    df_cell_proportion_age_genotype$cell_type_id = rownames(df_cell_proportion_age_genotype) \n",
    "    df_cell_proportion_age_genotype = left_join(df_cell_proportion_age_genotype, DA_cells)\n",
    "\n",
    "    cds_sampled = cds_cell_count[, (cds_cell_count$age_group %in% c(\"03_months\", \"16_months\")) & (cds_cell_count$genotype == \"WT\")]\n",
    "    DA_cells = differentialGeneTest(cds_sampled, fullModelFormulaStr = \"~ Size_Factor + age_group\", \n",
    "            reducedModelFormulaStr = \"~ Size_Factor\")\n",
    "    DA_cells = as.data.frame(DA_cells) %>% select(pval_03_16 = pval, qval_03_16 = qval, cell_type_id = gene_id)\n",
    "    df_cell_proportion_age_genotype = left_join(df_cell_proportion_age_genotype, DA_cells)\n",
    "    \n",
    "    cds_sub_cell_type_list[[organ_name]] = cds_cell_count\n",
    "    df_cell_proportion_age_list[[organ_name]] = df_cell_proportion_age_genotype\n",
    "    }"
   ]
  },
  {
   "cell_type": "code",
   "execution_count": 14,
   "id": "809844f6-100a-4489-9320-6baa83e8cb51",
   "metadata": {
    "vscode": {
     "languageId": "r"
    }
   },
   "outputs": [],
   "source": [
    "df_cell_proportion_age = bind_rows(df_cell_proportion_age_list)"
   ]
  },
  {
   "cell_type": "code",
   "execution_count": 15,
   "id": "c7aaa9b3-f00f-4133-8bff-eefb2086c728",
   "metadata": {
    "vscode": {
     "languageId": "r"
    }
   },
   "outputs": [],
   "source": [
    "df_cell_proportion_age$qval_06_23_corrected = p.adjust(df_cell_proportion_age$pval_06_23, method = \"fdr\")\n",
    "df_cell_proportion_age$qval_03_16_corrected = p.adjust(df_cell_proportion_age$pval_03_16, method = \"fdr\")\n",
    "\n",
    "df_cell_proportion_age$LFC_23_over_06 = log2((df_cell_proportion_age$`23_months-WT` + 1e-6) / (df_cell_proportion_age$`06_months-WT`+ 1e-6))\n",
    "df_cell_proportion_age$LFC_16_over_03 = log2((df_cell_proportion_age$`16_months-WT` + 1e-6) / (df_cell_proportion_age$`03_months-WT`+ 1e-6))"
   ]
  },
  {
   "cell_type": "code",
   "execution_count": null,
   "id": "88be6b57-473a-426d-ac8a-90c854d80b7b",
   "metadata": {
    "vscode": {
     "languageId": "r"
    }
   },
   "outputs": [],
   "source": []
  }
 ],
 "metadata": {
  "kernelspec": {
   "display_name": "R [conda env:utopia]",
   "language": "R",
   "name": "conda-env-utopia-r"
  },
  "language_info": {
   "codemirror_mode": "r",
   "file_extension": ".r",
   "mimetype": "text/x-r-source",
   "name": "R",
   "pygments_lexer": "r",
   "version": "4.3.1"
  },
  "widgets": {
   "application/vnd.jupyter.widget-state+json": {
    "state": {},
    "version_major": 2,
    "version_minor": 0
   }
  }
 },
 "nbformat": 4,
 "nbformat_minor": 5
}
